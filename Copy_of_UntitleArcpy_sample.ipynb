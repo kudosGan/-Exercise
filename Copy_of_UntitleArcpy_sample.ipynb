{
  "nbformat": 4,
  "nbformat_minor": 0,
  "metadata": {
    "colab": {
      "name": "Copy of UntitleArcpy_sample.ipynb",
      "private_outputs": true,
      "provenance": [],
      "collapsed_sections": [],
      "authorship_tag": "ABX9TyO3JYxYGCLCva7omkG23TfI",
      "include_colab_link": true
    },
    "kernelspec": {
      "name": "python3",
      "display_name": "Python 3"
    }
  },
  "cells": [
    {
      "cell_type": "markdown",
      "metadata": {
        "id": "view-in-github",
        "colab_type": "text"
      },
      "source": [
        "<a href=\"https://colab.research.google.com/github/kudosGan/-Exercise/blob/master/Copy_of_UntitleArcpy_sample.ipynb\" target=\"_parent\"><img src=\"https://colab.research.google.com/assets/colab-badge.svg\" alt=\"Open In Colab\"/></a>"
      ]
    },
    {
      "cell_type": "code",
      "metadata": {
        "id": "0z0c2-G8Bsqi"
      },
      "source": [
        "pip install arcgis"
      ],
      "execution_count": null,
      "outputs": []
    },
    {
      "cell_type": "code",
      "metadata": {
        "id": "ertUtkHv88Cb"
      },
      "source": [
        "from arcgis.gis import GIS\n",
        "\n",
        "# Python Standard Library Modules\n",
        "from pathlib import Path\n",
        "from zipfile import ZipFile"
      ],
      "execution_count": null,
      "outputs": []
    },
    {
      "cell_type": "code",
      "metadata": {
        "id": "lGNLlTx5_kBO"
      },
      "source": [
        "public_data_item_id = 'a04933c045714492bda6886f355416f2'"
      ],
      "execution_count": null,
      "outputs": []
    },
    {
      "cell_type": "code",
      "metadata": {
        "id": "HCmeOLa-_lpM"
      },
      "source": [
        "anon_gis = GIS()"
      ],
      "execution_count": null,
      "outputs": []
    },
    {
      "cell_type": "code",
      "metadata": {
        "id": "kuGPpl1-_r3W"
      },
      "source": [
        "data_item = anon_gis.content.get(public_data_item_id)\n",
        "\n",
        "# `ContentManager.get` will return `None` if there is no Item with ID `a04933c045714492bda6886f355416f2`\n",
        "data_item"
      ],
      "execution_count": null,
      "outputs": []
    },
    {
      "cell_type": "code",
      "metadata": {
        "id": "LN5VkBsm_sxQ"
      },
      "source": [
        "# configure where we should save our data, and where the ZIP file is located\n",
        "\n",
        "data_path = Path('./data')\n",
        "\n",
        "if not data_path.exists():\n",
        "    data_path.mkdir()\n",
        "\n",
        "zip_path = data_path.joinpath('LAHubDatasets.zip')\n",
        "extract_path = data_path.joinpath('LAHubDatasets')\n",
        "\n",
        "data_item.download(save_path=data_path)"
      ],
      "execution_count": null,
      "outputs": []
    },
    {
      "cell_type": "code",
      "metadata": {
        "id": "lzBZ6fN-_y5g"
      },
      "source": [
        "zip_file = ZipFile(zip_path)\n",
        "zip_file.extractall(path=extract_path)"
      ],
      "execution_count": null,
      "outputs": []
    },
    {
      "cell_type": "code",
      "metadata": {
        "id": "kUkLEYjAAFxM"
      },
      "source": [
        "list(file.name for file in extract_path.glob('*'))"
      ],
      "execution_count": null,
      "outputs": []
    }
  ]
}