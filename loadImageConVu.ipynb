{
  "nbformat": 4,
  "nbformat_minor": 0,
  "metadata": {
    "colab": {
      "name": "Copy of loadImageConVu.ipynb",
      "provenance": [],
      "private_outputs": true,
      "collapsed_sections": [],
      "authorship_tag": "ABX9TyPsXbTtjRQQDK9uOKjItzeB"
    },
    "kernelspec": {
      "name": "python3",
      "display_name": "Python 3"
    }
  },
  "cells": [
    {
      "cell_type": "code",
      "metadata": {
        "id": "Wd3foHSCkMD_",
        "colab_type": "code",
        "colab": {}
      },
      "source": [
        "from tensorflow.keras.preprocessing.image import ImageDataGenerator\n",
        "from tensorflow.keras.preprocessing import image\n",
        "from tensorflow.keras.optimizers import RMSprop\n",
        "import matplotlib.pyplot as plt\n",
        "import tensorflow as tf\n",
        "import numpy as np\n",
        "import cv2\n",
        "import os\n"
      ],
      "execution_count": null,
      "outputs": []
    },
    {
      "cell_type": "code",
      "metadata": {
        "id": "X2GH_S6eokDv",
        "colab_type": "code",
        "colab": {}
      },
      "source": [
        "%tensorflow_version 1.x\n",
        "from google.colab import drive\n",
        "drive.mount('/content/drive', force_remount=True)"
      ],
      "execution_count": null,
      "outputs": []
    },
    {
      "cell_type": "code",
      "metadata": {
        "id": "E1oOcyDRm8wg",
        "colab_type": "code",
        "colab": {}
      },
      "source": [
        "img = image.load_img(\"/content/drive/My Drive/KudosGAN_data/kudas/tune.png\" )"
      ],
      "execution_count": null,
      "outputs": []
    },
    {
      "cell_type": "code",
      "metadata": {
        "id": "Ai7rfJudn2vs",
        "colab_type": "code",
        "colab": {}
      },
      "source": [
        "plt.imshow(img)"
      ],
      "execution_count": null,
      "outputs": []
    },
    {
      "cell_type": "code",
      "metadata": {
        "id": "23x7KV0bsrIi",
        "colab_type": "code",
        "colab": {}
      },
      "source": [
        "cv2.imread(\"/content/drive/My Drive/KudosGAN_data/kudas/mytune1.png\").shape"
      ],
      "execution_count": null,
      "outputs": []
    },
    {
      "cell_type": "code",
      "metadata": {
        "id": "wqNwwueqtNtA",
        "colab_type": "code",
        "colab": {}
      },
      "source": [
        "cv2.imread(\"/content/drive/My Drive/KudosGAN_data/kudas/mytune1.png\")"
      ],
      "execution_count": null,
      "outputs": []
    }
  ]
}